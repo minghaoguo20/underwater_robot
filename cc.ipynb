{
 "cells": [
  {
   "cell_type": "code",
   "execution_count": 1,
   "metadata": {},
   "outputs": [],
   "source": [
    "import cv2\n",
    "import numpy as np\n",
    "from datetime import datetime\n",
    "import matplotlib.pyplot as plt\n",
    "import math\n",
    "\n",
    "from utils.line import *"
   ]
  },
  {
   "cell_type": "code",
   "execution_count": 2,
   "metadata": {},
   "outputs": [
    {
     "data": {
      "text/plain": [
       "(114, 3)"
      ]
     },
     "execution_count": 2,
     "metadata": {},
     "output_type": "execute_result"
    }
   ],
   "source": [
    "img_path = \"/home/rp24/file/test_img/3_1.png\"\n",
    "lower_hsv = np.array([0, 0, 240])   # 直线色域 0 0 245\n",
    "upper_hsv = np.array([180, 255, 255])\n",
    "\n",
    "\n",
    "frame = cv2.imread(img_path)\n",
    "height, width, _ = frame.shape\n",
    "\n",
    "\n",
    "lines = get_lines(frame, lower_hsv, upper_hsv)\n",
    "ca = get_center_and_angle(lines)\n",
    "\n",
    "ca.shape\n"
   ]
  },
  {
   "cell_type": "code",
   "execution_count": null,
   "metadata": {},
   "outputs": [],
   "source": [
    "plt.imshow(frame)\n",
    "\n",
    "# Add lines on the frame\n",
    "num_start = 0\n",
    "num_end = num_start + 44\n",
    "for idx in range(lines[num_start:num_end, ...].shape[0]):\n",
    "    x0, y0, x1, y1 = lines[idx][0]\n",
    "    center, angle = calculate_line_center_and_angle(x0, y0, x1, y1)\n",
    "    print(f\"center: {center}, angle: {angle:.1f}, {x0}, {y0} {x1}, {y1}\")\n",
    "    plt.plot([x0, x1], [y0, y1], color='red', linewidth=2)\n",
    "\n",
    "# Show the plot\n",
    "plt.show()"
   ]
  },
  {
   "cell_type": "markdown",
   "metadata": {},
   "source": [
    "# 聚类"
   ]
  },
  {
   "cell_type": "code",
   "execution_count": null,
   "metadata": {},
   "outputs": [],
   "source": [
    "keylines = lines[:10, ...]\n",
    "keylines = keylines.reshape(-1, 4)\n",
    "keylines.shape"
   ]
  },
  {
   "cell_type": "code",
   "execution_count": null,
   "metadata": {},
   "outputs": [],
   "source": [
    "# from sklearn.cluster import KMeans\n",
    "\n",
    "# # Create a KMeans object\n",
    "# kmeans = KMeans(n_clusters = 3)\n",
    "\n",
    "# # Fit the KMeans model to the line coordinates\n",
    "# kmeans.fit(keylines)\n",
    "\n",
    "# # Get the cluster labels for each line\n",
    "# line_labels = kmeans.labels_\n",
    "\n",
    "line_labels = cluster(keylines)\n",
    "\n",
    "# Print the cluster labels\n",
    "# print(line_labels)\n",
    "for idx in range(keylines.shape[0]):\n",
    "    ca = calculate_line_center_and_angle(keylines[idx][0], \n",
    "                                         keylines[idx][1],\n",
    "                                         keylines[idx][2],\n",
    "                                         keylines[idx][3])\n",
    "    print(f\"{keylines[idx]} {ca}: {line_labels[idx]}\")\n"
   ]
  },
  {
   "cell_type": "markdown",
   "metadata": {},
   "source": [
    "# capture"
   ]
  },
  {
   "cell_type": "code",
   "execution_count": null,
   "metadata": {},
   "outputs": [],
   "source": [
    "cap = cv.VideoCapture(0)\n",
    "\n",
    "output_dir = \"/home/rp24/file/debug_output\"\n",
    "\n",
    "idx = 0"
   ]
  },
  {
   "cell_type": "code",
   "execution_count": null,
   "metadata": {},
   "outputs": [],
   "source": [
    "now"
   ]
  },
  {
   "cell_type": "code",
   "execution_count": null,
   "metadata": {},
   "outputs": [],
   "source": []
  },
  {
   "cell_type": "markdown",
   "metadata": {},
   "source": [
    "# ref"
   ]
  },
  {
   "cell_type": "code",
   "execution_count": null,
   "metadata": {},
   "outputs": [],
   "source": [
    "img_path = \"/home/rp24/file/test_img/3_1.png\"\n",
    "frame = cv.imread(img_path)\n",
    "hsv = cv.cvtColor(frame, cv.COLOR_BGR2HSV)"
   ]
  },
  {
   "cell_type": "code",
   "execution_count": null,
   "metadata": {},
   "outputs": [],
   "source": [
    "def line_detection(image):\n",
    "    img = image[range(0, 240, 4), :]  # 截取前半部分\n",
    "    \n",
    "    h, w, ch = img.shape\n",
    "    redLower = np.array([0, 0, 230])\n",
    "    redUpper = np.array([255, 255, 255])\n",
    "    hsv = cv.cvtColor(img,cv.COLOR_BGR2HSV)  # 转换为HSV空间\n",
    "    # 根据阈值构建掩膜\n",
    "    mask = cv.inRange(hsv, redLower, redUpper)\n",
    "    # 腐蚀操作\n",
    "    mask = cv.erode(mask, None, iterations=1)\n",
    "    # 将二值化图像转换为矩阵\n",
    "    im = np.asarray(mask)\n",
    "\n",
    "    # 按y轴扫描\n",
    "    ins = np.zeros(h)\n",
    "    im = np.insert(im, 0, ins, axis=1)\n",
    "    x1 = (im != 0).argmax(axis=1)\n",
    "    im_x2 = im[:, x1.max() + 30:x1.min():-1]\n",
    "    x2 = (im_x2 != 0).argmax(axis=1)\n",
    "    x2 = np.size(im_x2, 1) - x2 + x1.min()\n",
    "    y = np.squeeze(np.nonzero(x1))\n",
    "    x = np.array((x1[y] + x2[y]) / 2 - 1)\n",
    "    try:\n",
    "        if x[0] != x[-1]:\n",
    "            k = (y[0] - y[-1]) / (x[0] - x[-1]) * 4\n",
    "            a = round((cmath.atan(k) / 3.14 * 180).real) - 90\n",
    "            if a <= -90:\n",
    "                a += 180\n",
    "        else:\n",
    "            a = 0\n",
    "        a += 90    \n",
    "        d = int(160 - x[-1])\n",
    "    except:\n",
    "        a = 999\n",
    "        d = 999\n",
    "    return img,a,d"
   ]
  },
  {
   "cell_type": "code",
   "execution_count": null,
   "metadata": {},
   "outputs": [],
   "source": []
  }
 ],
 "metadata": {
  "kernelspec": {
   "display_name": "Python 3",
   "language": "python",
   "name": "python3"
  },
  "language_info": {
   "codemirror_mode": {
    "name": "ipython",
    "version": 3
   },
   "file_extension": ".py",
   "mimetype": "text/x-python",
   "name": "python",
   "nbconvert_exporter": "python",
   "pygments_lexer": "ipython3",
   "version": "3.9.2"
  }
 },
 "nbformat": 4,
 "nbformat_minor": 2
}
