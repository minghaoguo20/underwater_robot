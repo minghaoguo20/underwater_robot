{
 "cells": [
  {
   "cell_type": "code",
   "execution_count": 2,
   "metadata": {},
   "outputs": [],
   "source": [
    "import cv2\n",
    "import numpy as np\n",
    "from datetime import datetime\n",
    "import matplotlib.pyplot as plt\n",
    "import math\n",
    "\n",
    "from utils.line import *"
   ]
  },
  {
   "cell_type": "code",
   "execution_count": 3,
   "metadata": {},
   "outputs": [
    {
     "data": {
      "text/plain": [
       "(114, 4)"
      ]
     },
     "execution_count": 3,
     "metadata": {},
     "output_type": "execute_result"
    }
   ],
   "source": [
    "img_path = \"/home/rp24/file/test_img/3_1.png\"\n",
    "lower_hsv = np.array([0, 0, 240])   # 直线色域 0 0 245\n",
    "upper_hsv = np.array([180, 255, 255])\n",
    "\n",
    "\n",
    "frame = cv2.imread(img_path)\n",
    "height, width, _ = frame.shape\n",
    "\n",
    "lines = get_lines(frame, lower_hsv, upper_hsv)\n",
    "cal = get_center_and_angle_len(lines)\n",
    "\n",
    "cal.shape\n"
   ]
  },
  {
   "cell_type": "code",
   "execution_count": null,
   "metadata": {},
   "outputs": [],
   "source": [
    "plt.imshow(frame)\n",
    "\n",
    "# Add lines on the frame\n",
    "num_start = 0\n",
    "num_end = num_start + 44\n",
    "for idx in range(lines[num_start:num_end, ...].shape[0]):\n",
    "    x0, y0, x1, y1 = lines[idx][0]\n",
    "    center, angle = calculate_line_center_and_angle(x0, y0, x1, y1)\n",
    "    print(f\"center: {center}, angle: {angle:.1f}, {x0}, {y0} {x1}, {y1}\")\n",
    "    plt.plot([x0, x1], [y0, y1], color='red', linewidth=2)\n",
    "\n",
    "# Show the plot\n",
    "plt.show()"
   ]
  },
  {
   "cell_type": "markdown",
   "metadata": {},
   "source": [
    "# capture"
   ]
  },
  {
   "cell_type": "code",
   "execution_count": null,
   "metadata": {},
   "outputs": [],
   "source": [
    "cap = cv.VideoCapture(0)\n",
    "\n",
    "output_dir = \"/home/rp24/file/debug_output\"\n",
    "\n",
    "idx = 0"
   ]
  },
  {
   "cell_type": "markdown",
   "metadata": {},
   "source": [
    "# ref"
   ]
  },
  {
   "cell_type": "code",
   "execution_count": 27,
   "metadata": {},
   "outputs": [
    {
     "data": {
      "text/plain": [
       "(570, 4)"
      ]
     },
     "execution_count": 27,
     "metadata": {},
     "output_type": "execute_result"
    }
   ],
   "source": [
    "from utils.line import *\n",
    "img_path = \"/home/rp24/file/test_img/aw4.jpg\"\n",
    "\n",
    "lower_hsv = np.array([0, 0, 40])   # 直线色域 0 0 245\n",
    "upper_hsv = np.array([180, 255, 255])\n",
    "\n",
    "frame = cv2.imread(img_path)\n",
    "frame = cv2.resize(frame,(600, 400),)\n",
    "height, width, _ = frame.shape\n",
    "\n",
    "lines = get_lines(frame, lower_hsv, upper_hsv)\n",
    "cal = get_center_and_angle_len(lines)\n",
    "\n",
    "cal.shape"
   ]
  },
  {
   "cell_type": "code",
   "execution_count": 3,
   "metadata": {},
   "outputs": [],
   "source": [
    "tt = cluster(cal)"
   ]
  },
  {
   "cell_type": "code",
   "execution_count": 5,
   "metadata": {},
   "outputs": [
    {
     "name": "stdout",
     "output_type": "stream",
     "text": [
      "ca0: (20, 4), ca1: (41, 4)\n"
     ]
    }
   ],
   "source": [
    "cal0 = cal[tt == 0]\n",
    "cal1 = cal[tt == 1]\n",
    "print(f\"ca0: {cal0.shape}, ca1: {cal1.shape}\")"
   ]
  },
  {
   "cell_type": "code",
   "execution_count": 20,
   "metadata": {},
   "outputs": [],
   "source": [
    "def get_key_lines(lines, std_threshold):\n",
    "    cal = get_center_and_angle_len(lines)\n",
    "    var = np.var(cal, axis=0)\n",
    "    n_lines = 1 if max(var[0], var[1]) < std_threshold else 2\n",
    "    clusters = cluster(cal, n_lines)\n",
    "    if n_lines == 1:\n",
    "        return n_lines, lines[0], cal[0]\n",
    "    else:\n",
    "        cal0 = cal[clusters == 0]\n",
    "        cal1 = cal[clusters == 1]\n",
    "        lines0 = lines[clusters == 0]\n",
    "        lines1 = lines[clusters == 1]\n",
    "        return n_lines, (lines0[0], lines1[0]), (cal0[0], cal1[0])"
   ]
  },
  {
   "cell_type": "code",
   "execution_count": 22,
   "metadata": {},
   "outputs": [
    {
     "name": "stdout",
     "output_type": "stream",
     "text": [
      "2\n",
      "(array([282,  40, 502, 188], dtype=int32), array([281,  16, 599,  61], dtype=int32))\n",
      "(array([392.        , 114.        ,  33.92979742, 265.14901471]), array([440.        ,  38.5       ,   8.05441445, 321.16818024]))\n"
     ]
    }
   ],
   "source": [
    "a,b,c = get_key_lines(lines, 10)\n",
    "print(a)\n",
    "print(b)\n",
    "print(c)"
   ]
  },
  {
   "cell_type": "code",
   "execution_count": null,
   "metadata": {},
   "outputs": [],
   "source": [
    "def get_focus_area(frame, lines):\n",
    "    pass"
   ]
  },
  {
   "cell_type": "code",
   "execution_count": null,
   "metadata": {},
   "outputs": [],
   "source": [
    "import matplotlib.pyplot as plt\n",
    "plt.figure()\n",
    "\n",
    "img_path = \"/home/rp24/file/test_img/aw3.jpg\"\n",
    "img = cv2.imread(img_path)\n",
    "for cx, cy, angle in ca0:\n",
    "    # cv2.circle(img, center=(cx, cy), color=(0, 0, 255), radius=20, thickness=2)\n",
    "    cv2.circle(img, (cx, cy), (0, 0, 255), 20, 2)\n",
    "plt.imshow(cv2.cvtColor(img, cv2.COLOR_BGR2RGB))\n",
    "plt.show()\n"
   ]
  },
  {
   "cell_type": "code",
   "execution_count": null,
   "metadata": {},
   "outputs": [],
   "source": [
    "import cv2\n",
    "img_path = \"/home/rp24/file/test_img/aw3.jpg\"\n",
    "import matplotlib.pyplot as plt\n",
    "\n",
    "# Load the image\n",
    "img_path = \"/home/rp24/file/test_img/aw3.jpg\"\n",
    "img = cv2.imread(img_path)\n",
    "\n",
    "# Convert the image to different color spaces\n",
    "img_rgb = cv2.cvtColor(img, cv2.COLOR_BGR2RGB)\n",
    "img_hsv = cv2.cvtColor(img, cv2.COLOR_BGR2HSV)\n",
    "img_gray = cv2.cvtColor(img, cv2.COLOR_BGR2GRAY)\n",
    "\n",
    "# Display the images using matplotlib\n",
    "plt.figure(figsize=(12, 6))\n",
    "\n",
    "for i in range(3):\n",
    "    plt.subplot(int(f\"33{i*3+1}\"))\n",
    "    plt.imshow(img_rgb[..., i])\n",
    "    plt.title(\"RGB\")\n",
    "\n",
    "for i in range(3):\n",
    "    plt.subplot(int(f\"33{i*3+2}\"))\n",
    "    plt.imshow(img_hsv[..., i])\n",
    "    plt.title(\"HSV\")\n",
    "\n",
    "plt.subplot(int(f\"133\"))\n",
    "plt.imshow(img_gray, cmap='gray')\n",
    "plt.title(\"Grayscale\")\n",
    "\n",
    "plt.tight_layout()\n",
    "plt.show()\n"
   ]
  },
  {
   "cell_type": "markdown",
   "metadata": {},
   "source": [
    "# gpio"
   ]
  },
  {
   "cell_type": "code",
   "execution_count": 2,
   "metadata": {},
   "outputs": [],
   "source": [
    "import RPi.GPIO as GPIO\n",
    "import serial\n",
    "# from serial import serial\n",
    "import time\n",
    "import struct\n",
    "import numpy as np"
   ]
  },
  {
   "cell_type": "code",
   "execution_count": 2,
   "metadata": {},
   "outputs": [],
   "source": [
    "port = \"/dev/ttyAMA0\"\n",
    "# port = \"/dev/ttyS0\"\n",
    "\n",
    "# 配置串口\n",
    "com = serial.Serial(port, 9600) #发送提示字符\n",
    "com.stopbits = 1\n",
    "com.bytesize = 8\n",
    "com.parity = 'N'"
   ]
  },
  {
   "cell_type": "code",
   "execution_count": null,
   "metadata": {},
   "outputs": [],
   "source": [
    "# com.write(b'underwater robot')\n",
    "\n",
    "com.write(b'\\xFE\\x01\\x04\\x00\\x00\\x00\\x00\\x00\\x05\\xFF')\n",
    "\n",
    "def float2byte(f):\n",
    "    return [hex(i) for i in struct.pack('f', f)]\n",
    "\n",
    "angle = float(12.3)\n",
    "# Convert angle to 2 bytes\n",
    "angle_bytes = angle.to_bytes(2, byteorder='big')\n",
    "# Send angle bytes\n",
    "# com.write(angle_bytes)\n",
    "\n",
    "while True:\n",
    "    count = com.inWaiting()\n",
    "    if count != 0:\n",
    "    # 读取内容并打印\n",
    "        recv = com.read(count)\n",
    "        print(recv)\n",
    "        #发回数据\n",
    "        com.write(recv)\n",
    "        # 清空接收缓冲区\n",
    "        com.flushInput()\n",
    "        # 延时 100ms,接收间隔\n",
    "        time.sleep(0.1)\n"
   ]
  }
 ],
 "metadata": {
  "kernelspec": {
   "display_name": "Python 3",
   "language": "python",
   "name": "python3"
  },
  "language_info": {
   "codemirror_mode": {
    "name": "ipython",
    "version": 3
   },
   "file_extension": ".py",
   "mimetype": "text/x-python",
   "name": "python",
   "nbconvert_exporter": "python",
   "pygments_lexer": "ipython3",
   "version": "3.9.2"
  }
 },
 "nbformat": 4,
 "nbformat_minor": 2
}
