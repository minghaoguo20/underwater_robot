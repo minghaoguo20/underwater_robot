{
 "cells": [
  {
   "cell_type": "code",
   "execution_count": 2,
   "metadata": {},
   "outputs": [],
   "source": [
    "import cv2\n",
    "import numpy as np\n",
    "from datetime import datetime\n",
    "import matplotlib.pyplot as plt\n",
    "import math\n",
    "\n",
    "from utils.line import *"
   ]
  },
  {
   "cell_type": "code",
   "execution_count": null,
   "metadata": {},
   "outputs": [],
   "source": [
    "img_path = \"/home/rp24/file/test_img/3_1.png\"\n",
    "lower_hsv = np.array([0, 0, 240])   # 直线色域 0 0 245\n",
    "upper_hsv = np.array([180, 255, 255])\n",
    "\n",
    "\n",
    "frame = cv2.imread(img_path)\n",
    "height, width, _ = frame.shape\n",
    "\n",
    "lines = get_lines(frame, lower_hsv, upper_hsv)\n",
    "cal = get_center_and_angle_len(lines)\n",
    "\n",
    "cal.shape\n"
   ]
  },
  {
   "cell_type": "code",
   "execution_count": null,
   "metadata": {},
   "outputs": [],
   "source": [
    "plt.imshow(frame)\n",
    "\n",
    "# Add lines on the frame\n",
    "num_start = 0\n",
    "num_end = num_start + 44\n",
    "for idx in range(lines[num_start:num_end, ...].shape[0]):\n",
    "    x0, y0, x1, y1 = lines[idx][0]\n",
    "    center, angle = calculate_line_center_and_angle(x0, y0, x1, y1)\n",
    "    print(f\"center: {center}, angle: {angle:.1f}, {x0}, {y0} {x1}, {y1}\")\n",
    "    plt.plot([x0, x1], [y0, y1], color='red', linewidth=2)\n",
    "\n",
    "# Show the plot\n",
    "plt.show()"
   ]
  },
  {
   "cell_type": "markdown",
   "metadata": {},
   "source": [
    "# capture"
   ]
  },
  {
   "cell_type": "code",
   "execution_count": 5,
   "metadata": {},
   "outputs": [
    {
     "name": "stdout",
     "output_type": "stream",
     "text": [
      "False\n"
     ]
    },
    {
     "name": "stderr",
     "output_type": "stream",
     "text": [
      "[ WARN:0] global /tmp/pip-wheel-w_lllcn3/opencv-python_622962b8a47a42ed9a5e55c557dab0ed/opencv/modules/videoio/src/cap_v4l.cpp (893) open VIDEOIO(V4L2:/dev/video0): can't open camera by index\n"
     ]
    }
   ],
   "source": [
    "cap = cv2.VideoCapture(0)\n",
    "\n",
    "output_dir = \"/home/rp24/file/debug_output\"\n",
    "\n",
    "idx = 0\n",
    "ret, FrameImage = cap.read()\n",
    "print(ret)"
   ]
  },
  {
   "cell_type": "markdown",
   "metadata": {},
   "source": [
    "# ref"
   ]
  },
  {
   "cell_type": "code",
   "execution_count": null,
   "metadata": {},
   "outputs": [],
   "source": [
    "from utils.line import *\n",
    "img_path = \"/home/rp24/file/test_img/aw4.jpg\"\n",
    "\n",
    "lower_hsv = np.array([0, 0, 40])   # 直线色域 0 0 245\n",
    "upper_hsv = np.array([180, 255, 255])\n",
    "\n",
    "frame = cv2.imread(img_path)\n",
    "frame = cv2.resize(frame,(600, 400),)\n",
    "height, width, _ = frame.shape\n",
    "\n",
    "lines = get_lines(frame, lower_hsv, upper_hsv)\n",
    "cal = get_center_and_angle_len(lines)\n",
    "\n",
    "cal.shape"
   ]
  },
  {
   "cell_type": "code",
   "execution_count": null,
   "metadata": {},
   "outputs": [],
   "source": [
    "tt = cluster(cal)"
   ]
  },
  {
   "cell_type": "code",
   "execution_count": null,
   "metadata": {},
   "outputs": [],
   "source": [
    "cal0 = cal[tt == 0]\n",
    "cal1 = cal[tt == 1]\n",
    "print(f\"ca0: {cal0.shape}, ca1: {cal1.shape}\")"
   ]
  },
  {
   "cell_type": "code",
   "execution_count": null,
   "metadata": {},
   "outputs": [],
   "source": [
    "def get_key_lines(lines, std_threshold):\n",
    "    cal = get_center_and_angle_len(lines)\n",
    "    var = np.var(cal, axis=0)\n",
    "    n_lines = 1 if max(var[0], var[1]) < std_threshold else 2\n",
    "    clusters = cluster(cal, n_lines)\n",
    "    if n_lines == 1:\n",
    "        return n_lines, lines[0], cal[0]\n",
    "    else:\n",
    "        cal0 = cal[clusters == 0]\n",
    "        cal1 = cal[clusters == 1]\n",
    "        lines0 = lines[clusters == 0]\n",
    "        lines1 = lines[clusters == 1]\n",
    "        return n_lines, (lines0[0], lines1[0]), (cal0[0], cal1[0])"
   ]
  },
  {
   "cell_type": "code",
   "execution_count": null,
   "metadata": {},
   "outputs": [],
   "source": [
    "a,b,c = get_key_lines(lines, 10)\n",
    "print(a)\n",
    "print(b)\n",
    "print(c)"
   ]
  },
  {
   "cell_type": "code",
   "execution_count": null,
   "metadata": {},
   "outputs": [],
   "source": [
    "def get_focus_area(frame, lines):\n",
    "    pass"
   ]
  },
  {
   "cell_type": "code",
   "execution_count": null,
   "metadata": {},
   "outputs": [],
   "source": [
    "import matplotlib.pyplot as plt\n",
    "plt.figure()\n",
    "\n",
    "img_path = \"/home/rp24/file/test_img/aw3.jpg\"\n",
    "img = cv2.imread(img_path)\n",
    "for cx, cy, angle in ca0:\n",
    "    # cv2.circle(img, center=(cx, cy), color=(0, 0, 255), radius=20, thickness=2)\n",
    "    cv2.circle(img, (cx, cy), (0, 0, 255), 20, 2)\n",
    "plt.imshow(cv2.cvtColor(img, cv2.COLOR_BGR2RGB))\n",
    "plt.show()\n"
   ]
  },
  {
   "cell_type": "code",
   "execution_count": null,
   "metadata": {},
   "outputs": [],
   "source": [
    "import cv2\n",
    "img_path = \"/home/rp24/file/test_img/aw3.jpg\"\n",
    "import matplotlib.pyplot as plt\n",
    "\n",
    "# Load the image\n",
    "img_path = \"/home/rp24/file/test_img/aw3.jpg\"\n",
    "img = cv2.imread(img_path)\n",
    "\n",
    "# Convert the image to different color spaces\n",
    "img_rgb = cv2.cvtColor(img, cv2.COLOR_BGR2RGB)\n",
    "img_hsv = cv2.cvtColor(img, cv2.COLOR_BGR2HSV)\n",
    "img_gray = cv2.cvtColor(img, cv2.COLOR_BGR2GRAY)\n",
    "\n",
    "# Display the images using matplotlib\n",
    "plt.figure(figsize=(12, 6))\n",
    "\n",
    "for i in range(3):\n",
    "    plt.subplot(int(f\"33{i*3+1}\"))\n",
    "    plt.imshow(img_rgb[..., i])\n",
    "    plt.title(\"RGB\")\n",
    "\n",
    "for i in range(3):\n",
    "    plt.subplot(int(f\"33{i*3+2}\"))\n",
    "    plt.imshow(img_hsv[..., i])\n",
    "    plt.title(\"HSV\")\n",
    "\n",
    "plt.subplot(int(f\"133\"))\n",
    "plt.imshow(img_gray, cmap='gray')\n",
    "plt.title(\"Grayscale\")\n",
    "\n",
    "plt.tight_layout()\n",
    "plt.show()\n"
   ]
  },
  {
   "cell_type": "markdown",
   "metadata": {},
   "source": [
    "# h5"
   ]
  },
  {
   "cell_type": "code",
   "execution_count": 1,
   "metadata": {},
   "outputs": [],
   "source": [
    "import numpy as np\n",
    "import h5py"
   ]
  },
  {
   "cell_type": "code",
   "execution_count": 2,
   "metadata": {},
   "outputs": [
    {
     "name": "stdout",
     "output_type": "stream",
     "text": [
      "/\n",
      "<KeysViewHDF5 []>\n"
     ]
    }
   ],
   "source": [
    "# 1. 写入\n",
    "f = h5py.File('./demo.h5', 'w')     # 打开文件，更推荐用with管理上下文\n",
    "\n",
    "print(f.name)        # '/',  file相当于root\n",
    "print(f.keys())      # <KeysViewHDF5 []>, 所有group的名称，相当于索引"
   ]
  },
  {
   "cell_type": "code",
   "execution_count": 3,
   "metadata": {},
   "outputs": [
    {
     "name": "stdout",
     "output_type": "stream",
     "text": [
      "numpy_A\n"
     ]
    }
   ],
   "source": [
    "# 直接赋值\n",
    "A = np.random.rand(100,100)\n",
    "f['numpy_A'] = A    # f[key]=value直接赋值，存储对应的group（numpy_A）和dataset(A)\n",
    "for name in f:    # 等同于for name in f.keys()\n",
    "    print(name)   # numpy_A"
   ]
  },
  {
   "cell_type": "code",
   "execution_count": 4,
   "metadata": {},
   "outputs": [
    {
     "name": "stdout",
     "output_type": "stream",
     "text": [
      "<KeysViewHDF5 ['group_1', 'numpy_A']>\n"
     ]
    }
   ],
   "source": [
    "# 创建组\n",
    "f.create_group('group_1')   # 和numpy_A同级\n",
    "  # numpy_A  group_1print(f.keys())"
   ]
  },
  {
   "cell_type": "code",
   "execution_count": 5,
   "metadata": {},
   "outputs": [],
   "source": [
    "# 组内通过赋值的方式创建dataset\n",
    "B = np.random.rand(200,200)\n",
    "f['group_1']['numpy_B'] = B"
   ]
  },
  {
   "cell_type": "code",
   "execution_count": 14,
   "metadata": {},
   "outputs": [
    {
     "name": "stdout",
     "output_type": "stream",
     "text": [
      "<KeysViewHDF5 ['group_1', 'numpy_A']>\n"
     ]
    }
   ],
   "source": [
    "print(f.keys())"
   ]
  },
  {
   "cell_type": "code",
   "execution_count": 11,
   "metadata": {},
   "outputs": [
    {
     "data": {
      "text/plain": [
       "<HDF5 dataset \"mydataset12\": shape (10, 10), type \"<f4\">"
      ]
     },
     "execution_count": 11,
     "metadata": {},
     "output_type": "execute_result"
    }
   ],
   "source": [
    "f['group_1'].create_dataset('mydataset12', (10, 10), dtype='f')"
   ]
  },
  {
   "cell_type": "code",
   "execution_count": 15,
   "metadata": {},
   "outputs": [
    {
     "name": "stdout",
     "output_type": "stream",
     "text": [
      "<KeysViewHDF5 ['group_1', 'group_2', 'numpy_A']>\n"
     ]
    }
   ],
   "source": [
    "# 通过/直接同时创建group和dataset\n",
    "f.create_dataset('group_2/mydataset2', (20,20), dtype='f')\n",
    "print(f.keys())    # group_1 group_2 numpy_A"
   ]
  },
  {
   "cell_type": "code",
   "execution_count": 16,
   "metadata": {},
   "outputs": [],
   "source": [
    "# # 创建属性\n",
    "# f.attrs['name'] = 'Mia'   \n",
    "\n",
    "# 关闭，存储\n",
    "f.close()"
   ]
  },
  {
   "cell_type": "code",
   "execution_count": 17,
   "metadata": {},
   "outputs": [
    {
     "name": "stdout",
     "output_type": "stream",
     "text": [
      "<KeysViewHDF5 ['group_1', 'group_2', 'numpy_A']>\n",
      "\n",
      "<KeysViewHDF5 []>\n",
      "\n",
      "group_1\n",
      "group_1/mydataset\n",
      "group_1/mydataset1\n",
      "group_1/mydataset12\n",
      "group_1/numpy_B\n",
      "group_2\n",
      "group_2/mydataset2\n",
      "numpy_A\n"
     ]
    }
   ],
   "source": [
    "# 2. 读取\n",
    "f = h5py.File('./demo.h5', 'r')\n",
    "\n",
    "print(f.keys())\n",
    "print()\n",
    "# 获取属性的key\n",
    "print(f.attrs.keys())\n",
    "print()\n",
    "# 递归遍历\n",
    "f.visit(lambda x:print(x))"
   ]
  },
  {
   "cell_type": "code",
   "execution_count": 19,
   "metadata": {},
   "outputs": [
    {
     "data": {
      "text/plain": [
       "(10, 10)"
      ]
     },
     "execution_count": 19,
     "metadata": {},
     "output_type": "execute_result"
    }
   ],
   "source": [
    "data = f['group_1/mydataset1'][:]\n",
    "data.shape"
   ]
  },
  {
   "cell_type": "code",
   "execution_count": 13,
   "metadata": {},
   "outputs": [
    {
     "ename": "TypeError",
     "evalue": "Accessing a group is done with bytes or str, not <class 'slice'>",
     "output_type": "error",
     "traceback": [
      "\u001b[0;31m---------------------------------------------------------------------------\u001b[0m",
      "\u001b[0;31mTypeError\u001b[0m                                 Traceback (most recent call last)",
      "Cell \u001b[0;32mIn[13], line 1\u001b[0m\n\u001b[0;32m----> 1\u001b[0m data \u001b[38;5;241m=\u001b[39m \u001b[43mf\u001b[49m\u001b[43m[\u001b[49m\u001b[38;5;124;43m'\u001b[39;49m\u001b[38;5;124;43mgroup_2\u001b[39;49m\u001b[38;5;124;43m'\u001b[39;49m\u001b[43m]\u001b[49m\u001b[43m[\u001b[49m\u001b[43m:\u001b[49m\u001b[43m]\u001b[49m\n\u001b[1;32m      2\u001b[0m data\u001b[38;5;241m.\u001b[39mshape\n",
      "File \u001b[0;32mh5py/_objects.pyx:54\u001b[0m, in \u001b[0;36mh5py._objects.with_phil.wrapper\u001b[0;34m()\u001b[0m\n",
      "File \u001b[0;32mh5py/_objects.pyx:55\u001b[0m, in \u001b[0;36mh5py._objects.with_phil.wrapper\u001b[0;34m()\u001b[0m\n",
      "File \u001b[0;32m/opt/anaconda3/envs/tool_cv2/lib/python3.10/site-packages/h5py/_hl/group.py:359\u001b[0m, in \u001b[0;36mGroup.__getitem__\u001b[0;34m(self, name)\u001b[0m\n\u001b[1;32m    357\u001b[0m     oid \u001b[38;5;241m=\u001b[39m h5o\u001b[38;5;241m.\u001b[39mopen(\u001b[38;5;28mself\u001b[39m\u001b[38;5;241m.\u001b[39mid, \u001b[38;5;28mself\u001b[39m\u001b[38;5;241m.\u001b[39m_e(name), lapl\u001b[38;5;241m=\u001b[39m\u001b[38;5;28mself\u001b[39m\u001b[38;5;241m.\u001b[39m_lapl)\n\u001b[1;32m    358\u001b[0m \u001b[38;5;28;01melse\u001b[39;00m:\n\u001b[0;32m--> 359\u001b[0m     \u001b[38;5;28;01mraise\u001b[39;00m \u001b[38;5;167;01mTypeError\u001b[39;00m(\u001b[38;5;124m\"\u001b[39m\u001b[38;5;124mAccessing a group is done with bytes or str, \u001b[39m\u001b[38;5;124m\"\u001b[39m\n\u001b[1;32m    360\u001b[0m                     \u001b[38;5;124m\"\u001b[39m\u001b[38;5;124mnot \u001b[39m\u001b[38;5;132;01m{}\u001b[39;00m\u001b[38;5;124m\"\u001b[39m\u001b[38;5;241m.\u001b[39mformat(\u001b[38;5;28mtype\u001b[39m(name)))\n\u001b[1;32m    362\u001b[0m otype \u001b[38;5;241m=\u001b[39m h5i\u001b[38;5;241m.\u001b[39mget_type(oid)\n\u001b[1;32m    363\u001b[0m \u001b[38;5;28;01mif\u001b[39;00m otype \u001b[38;5;241m==\u001b[39m h5i\u001b[38;5;241m.\u001b[39mGROUP:\n",
      "\u001b[0;31mTypeError\u001b[0m: Accessing a group is done with bytes or str, not <class 'slice'>"
     ]
    }
   ],
   "source": [
    "data = f['group_2'][:]\n",
    "data.shape"
   ]
  },
  {
   "cell_type": "markdown",
   "metadata": {},
   "source": [
    "# 颜色增强"
   ]
  },
  {
   "cell_type": "code",
   "execution_count": 2,
   "metadata": {},
   "outputs": [],
   "source": [
    "import cv2\n",
    "\n",
    "hue_change = 5  # 色调改变值 步长\n",
    "\n",
    "img_path = \"/home/rp24/code/underwater_robot/file/debug/frames_saved_20240607181720.jpg\"\n",
    "img = cv2.imread(img_path, cv2.IMREAD_COLOR)  # 打开文件\n",
    "\n",
    "\n",
    "# 通过cv2.cvtColor把图像从BGR转换到HSV\n",
    "img_hsv = cv2.cvtColor(img, cv2.COLOR_BGR2HSV)\n",
    "\n",
    "turn_green_hsv = img_hsv.copy()\n",
    "# 色调hue变化范围5——50\n",
    "for i in range(1, 11):\n",
    "    turn_green_hsv[:, :, 0] = (turn_green_hsv[:, :, 0] + hue_change * i) % 180\n",
    "    turn_green_img = cv2.cvtColor(turn_green_hsv, cv2.COLOR_HSV2BGR)\n",
    "    new_img_path = img_path.replace(\".jpg\", f\"_color_change_{i}.jpg\")\n",
    "    cv2.imwrite(new_img_path, turn_green_img)\n"
   ]
  },
  {
   "cell_type": "code",
   "execution_count": null,
   "metadata": {},
   "outputs": [],
   "source": [
    "import cv2\n",
    "import numpy as np\n",
    "\n",
    "# 加载图像\n",
    "image = cv2.imread('image.png')\n",
    "\n",
    "# 将图像从BGR转换为HSV\n",
    "hsv = cv2.cvtColor(image, cv2.COLOR_BGR2HSV)\n",
    "\n",
    "# 定义黑色的HSV颜色范围\n",
    "lower_black = np.array([0,0,0])\n",
    "upper_black = np.array([180, 255, 30])\n",
    "\n",
    "# 定义蓝色的HSV颜色范围\n",
    "lower_blue = np.array([110,50,50])\n",
    "upper_blue = np.array([130,255,255])\n",
    "\n",
    "# 创建黑色和蓝色的颜色掩码\n",
    "mask_black = cv2.inRange(hsv, lower_black, upper_black)\n",
    "mask_blue = cv2.inRange(hsv, lower_blue, upper_blue)\n",
    "\n",
    "# 对原图像应用掩码得到只有黑色和蓝色的图像\n",
    "result_black = cv2.bitwise_and(image, image, mask=mask_black)\n",
    "result_blue = cv2.bitwise_and(image, image, mask=mask_blue)\n",
    "\n",
    "# 显示结果\n",
    "cv2.imshow('image', image)\n",
    "cv2.imshow('black', result_black)\n",
    "cv2.imshow('blue', result_blue)\n",
    "\n",
    "# cv2.waitKey(0)\n",
    "# cv2.destroyAllWindows()"
   ]
  }
 ],
 "metadata": {
  "kernelspec": {
   "display_name": "Python 3",
   "language": "python",
   "name": "python3"
  },
  "language_info": {
   "codemirror_mode": {
    "name": "ipython",
    "version": 3
   },
   "file_extension": ".py",
   "mimetype": "text/x-python",
   "name": "python",
   "nbconvert_exporter": "python",
   "pygments_lexer": "ipython3",
   "version": "3.9.2"
  }
 },
 "nbformat": 4,
 "nbformat_minor": 2
}
