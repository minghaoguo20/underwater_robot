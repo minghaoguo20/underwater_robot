{
 "cells": [
  {
   "cell_type": "code",
   "execution_count": 14,
   "metadata": {},
   "outputs": [],
   "source": [
    "import cv2 as cv\n",
    "import numpy as np\n",
    "from datetime import datetime"
   ]
  },
  {
   "cell_type": "code",
   "execution_count": 2,
   "metadata": {},
   "outputs": [],
   "source": [
    "img_path = \"/home/rp24/test_img/1_1.png\"\n",
    "lower_hsv = np.array([0, 0, 240])   # 直线色域 0 0 245\n",
    "upper_hsv = np.array([180, 255, 255])"
   ]
  },
  {
   "cell_type": "code",
   "execution_count": 3,
   "metadata": {},
   "outputs": [],
   "source": [
    "frame = cv.imread(img_path)\n",
    "hsv = cv.cvtColor(frame, cv.COLOR_BGR2HSV)"
   ]
  },
  {
   "cell_type": "code",
   "execution_count": 4,
   "metadata": {},
   "outputs": [],
   "source": [
    "mask1 = cv.inRange(hsv, lowerb=lower_hsv, upperb=upper_hsv)  # mask1灯带\n",
    "kernel1 = cv.getStructuringElement(cv.MORPH_RECT, (9, 12))\n",
    "mask1 = cv.dilate(mask1, kernel1)\n",
    "mask1 = cv.erode(mask1, kernel1)\n",
    "lines = cv.HoughLinesP(mask1, 1, np.pi/180, 100, minLineLength=100, maxLineGap=50)"
   ]
  },
  {
   "cell_type": "code",
   "execution_count": 13,
   "metadata": {},
   "outputs": [
    {
     "name": "stdout",
     "output_type": "stream",
     "text": [
      "[6638, 300562]\n"
     ]
    }
   ],
   "source": [
    "info = [0, 0]\n",
    "for i in (mask1.shape[0]):\n",
    "    for j in (mask1.shape[1]):\n",
    "        if mask1[i, j] > 0:\n",
    "            info[0] += 1\n",
    "        else:\n",
    "            info[1] += 1\n",
    "print(info)"
   ]
  },
  {
   "cell_type": "markdown",
   "metadata": {},
   "source": [
    "# capture"
   ]
  },
  {
   "cell_type": "code",
   "execution_count": null,
   "metadata": {},
   "outputs": [],
   "source": [
    "cap = cv.VideoCapture(0)\n",
    "\n",
    "output_dir = \"/home/rp24/file/debug_output\"\n",
    "\n",
    "idx = 0"
   ]
  },
  {
   "cell_type": "code",
   "execution_count": 24,
   "metadata": {},
   "outputs": [
    {
     "data": {
      "text/plain": [
       "datetime.datetime(2024, 4, 9, 16, 3, 33, 216718)"
      ]
     },
     "execution_count": 24,
     "metadata": {},
     "output_type": "execute_result"
    }
   ],
   "source": [
    "now"
   ]
  },
  {
   "cell_type": "code",
   "execution_count": null,
   "metadata": {},
   "outputs": [],
   "source": [
    "from datetime import timedelta\n",
    "last = datetime.now() - timedelta(seconds=15)\n",
    "while True:\n",
    "    for i in range(10):\n",
    "        now = datetime.now()\n",
    "        if now > last + timedelta(seconds=1):\n",
    "            print(now)\n",
    "            last = now\n"
   ]
  }
 ],
 "metadata": {
  "kernelspec": {
   "display_name": "Python 3",
   "language": "python",
   "name": "python3"
  },
  "language_info": {
   "codemirror_mode": {
    "name": "ipython",
    "version": 3
   },
   "file_extension": ".py",
   "mimetype": "text/x-python",
   "name": "python",
   "nbconvert_exporter": "python",
   "pygments_lexer": "ipython3",
   "version": "3.9.2"
  }
 },
 "nbformat": 4,
 "nbformat_minor": 2
}
